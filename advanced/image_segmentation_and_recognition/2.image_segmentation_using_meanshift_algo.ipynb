{
 "cells": [
  {
   "cell_type": "markdown",
   "metadata": {},
   "source": [
    "## Image Segmentation using Mean Shift Clustering\n",
    "The use of mean shift clustering (MSC) in image segmentation is a well-known method in computer vision that divides an image into meaningful zones according to color and space. \n",
    "\n",
    "### Mean Shift Clustering\n",
    "Mean shift clustering is a method used to find clusters in data without specifying the number of clusters beforehand. Mean shift clustering is a non-parametric, reiterative algorithm that seeks to identify groups in a dataset by discovering the sharper peaks in a density function, when, unlike some clustering algorithms, it does not require a piece of prior knowledge on the number of categories.\n",
    "\n",
    "### Why this clustering for image segmentation?\n",
    "It is a non-parametric, unsupervised method that effectively identifies the modes or high-density regions of data, which correspond to the different segments in an image.  By iteratively shifting data points towards the average of points within a given window, mean shift clustering can discover arbitrarily shaped clusters without assuming a specific number of clusters beforehand. This makes it particularly suitable for image segmentation, where the goal is to partition the image into meaningful regions based on pixel intensity and color.\n",
    "\n",
    "### Mean Shift Algorithm\n",
    "`Given`: Distribution of $N$ pixels in feature space.  \n",
    "`Task`: Find modes(clusters) of the distribution.  \n",
    "`Clustering`:  \n",
    "1. Set $m_i = f_i$ as initial mean for each pixel $i$.\n",
    "2. Repeat the following for each mean $m_i$:\n",
    "    - Place window of size $W$ around $m_i$.\n",
    "    - Compute Centroid $m$ within the window. Set $m_i = m$.\n",
    "    - Stop if shift in mean $m_i$ is less than a threshold $e$. $m_i$ is the mode.\n",
    "3. Label all pixels that have same mode as belonging to same cluster.\n",
    "\n"
   ]
  },
  {
   "cell_type": "markdown",
   "metadata": {},
   "source": [
    "## Implementation"
   ]
  },
  {
   "cell_type": "code",
   "execution_count": 16,
   "metadata": {},
   "outputs": [],
   "source": [
    "import cv2\n",
    "import numpy as np\n",
    "import matplotlib.pyplot as plt\n",
    "from sklearn.cluster import MeanShift, estimate_bandwidth"
   ]
  },
  {
   "cell_type": "markdown",
   "metadata": {},
   "source": [
    "**Load the Image**"
   ]
  },
  {
   "cell_type": "code",
   "execution_count": 49,
   "metadata": {},
   "outputs": [],
   "source": [
    "# Load the image\n",
    "image_path = './images/heart.jpg'\n",
    "image = cv2.imread(image_path)\n",
    "\n",
    "# Check if the image was loaded successfully\n",
    "if image is None:\n",
    "    print(f\"Error: Unable to load image at {image_path}\")\n",
    "else:\n",
    "    # Convert the image to RGB\n",
    "    image = cv2.cvtColor(image, cv2.COLOR_BGR2RGB)"
   ]
  },
  {
   "cell_type": "markdown",
   "metadata": {},
   "source": [
    "**Convert the image from RGB to Lab color space for better clustering.**"
   ]
  },
  {
   "cell_type": "code",
   "execution_count": 50,
   "metadata": {},
   "outputs": [],
   "source": [
    "# Convert image to L*a*b* color space\n",
    "lab_image = cv2.cvtColor(image, cv2.COLOR_RGB2LAB)  "
   ]
  },
  {
   "cell_type": "code",
   "execution_count": 51,
   "metadata": {},
   "outputs": [],
   "source": [
    "# Flatten the image\n",
    "flat_image = lab_image.reshape((-1, 3))\n"
   ]
  },
  {
   "cell_type": "code",
   "execution_count": 52,
   "metadata": {},
   "outputs": [
    {
     "data": {
      "text/plain": [
       "(121320, 3)"
      ]
     },
     "execution_count": 52,
     "metadata": {},
     "output_type": "execute_result"
    }
   ],
   "source": [
    "flat_image.shape"
   ]
  },
  {
   "cell_type": "markdown",
   "metadata": {},
   "source": [
    "**Create Feature Space**  \n",
    "Create a feature space that includes the Lab* values and the (x, y) coordinates of each pixel."
   ]
  },
  {
   "cell_type": "code",
   "execution_count": 53,
   "metadata": {},
   "outputs": [],
   "source": [
    "# Create the feature space [L, a, b, x, y]\n",
    "height, width, _ = image.shape\n",
    "x, y = np.meshgrid(np.arange(width), np.arange(height))\n",
    "flat_image_with_coordinates = np.column_stack([flat_image, x.flatten(), y.flatten()])"
   ]
  },
  {
   "cell_type": "code",
   "execution_count": 54,
   "metadata": {},
   "outputs": [
    {
     "data": {
      "text/plain": [
       "(121320, 5)"
      ]
     },
     "execution_count": 54,
     "metadata": {},
     "output_type": "execute_result"
    }
   ],
   "source": [
    "flat_image_with_coordinates.shape"
   ]
  },
  {
   "cell_type": "code",
   "execution_count": 55,
   "metadata": {},
   "outputs": [],
   "source": [
    "#Estimate the bandwidth parameter for the Mean Shift algorithm\n",
    "bandwidth = estimate_bandwidth(flat_image_with_coordinates, quantile=0.2, n_samples=500)"
   ]
  },
  {
   "cell_type": "code",
   "execution_count": 56,
   "metadata": {},
   "outputs": [
    {
     "name": "stdout",
     "output_type": "stream",
     "text": [
      "Estimated Bandwidth: 147.93371455236394\n"
     ]
    }
   ],
   "source": [
    "print(f\"Estimated Bandwidth: {bandwidth}\")"
   ]
  },
  {
   "cell_type": "code",
   "execution_count": 57,
   "metadata": {},
   "outputs": [],
   "source": [
    "# Perform Mean Shift clustering\n",
    "mean_shift = MeanShift(bandwidth=bandwidth, bin_seeding=True)\n",
    "mean_shift.fit(flat_image_with_coordinates)\n",
    "labels = mean_shift.labels_"
   ]
  },
  {
   "cell_type": "code",
   "execution_count": 58,
   "metadata": {},
   "outputs": [],
   "source": [
    "# Reshape the labels to the original image shape\n",
    "segmented_image = labels.reshape((height, width))"
   ]
  },
  {
   "cell_type": "code",
   "execution_count": 59,
   "metadata": {},
   "outputs": [
    {
     "data": {
      "text/plain": [
       "(337, 360)"
      ]
     },
     "execution_count": 59,
     "metadata": {},
     "output_type": "execute_result"
    }
   ],
   "source": [
    "segmented_image.shape"
   ]
  },
  {
   "cell_type": "code",
   "execution_count": 60,
   "metadata": {},
   "outputs": [
    {
     "data": {
      "text/plain": [
       "array([[0, 0, 0, ..., 0, 0, 0],\n",
       "       [0, 0, 0, ..., 0, 0, 0],\n",
       "       [0, 0, 0, ..., 0, 0, 0],\n",
       "       ...,\n",
       "       [0, 0, 0, ..., 0, 0, 0],\n",
       "       [0, 0, 0, ..., 0, 0, 0],\n",
       "       [0, 0, 0, ..., 0, 0, 0]])"
      ]
     },
     "execution_count": 60,
     "metadata": {},
     "output_type": "execute_result"
    }
   ],
   "source": [
    "segmented_image"
   ]
  },
  {
   "cell_type": "code",
   "execution_count": 61,
   "metadata": {},
   "outputs": [],
   "source": [
    "# Generate a colored segmented image\n",
    "unique_labels = np.unique(labels)\n",
    "segmented_colors = np.random.randint(0, 255, size=(len(unique_labels), 3))\n",
    "colored_segmented_image = segmented_colors[segmented_image]"
   ]
  },
  {
   "cell_type": "code",
   "execution_count": 62,
   "metadata": {},
   "outputs": [
    {
     "data": {
      "text/plain": [
       "<matplotlib.image.AxesImage at 0x7f4754b8b350>"
      ]
     },
     "execution_count": 62,
     "metadata": {},
     "output_type": "execute_result"
    },
    {
     "data": {
      "image/png": "[encoded data removed]",
      "text/plain": [
       "<Figure size 640x480 with 1 Axes>"
      ]
     },
     "metadata": {},
     "output_type": "display_data"
    }
   ],
   "source": [
    "plt.imshow(colored_segmented_image)"
   ]
  }
 ],
 "metadata": {
  "kernelspec": {
   "display_name": "base",
   "language": "python",
   "name": "python3"
  },
  "language_info": {
   "codemirror_mode": {
    "name": "ipython",
    "version": 3
   },
   "file_extension": ".py",
   "mimetype": "text/x-python",
   "name": "python",
   "nbconvert_exporter": "python",
   "pygments_lexer": "ipython3",
   "version": "3.11.7"
  }
 },
 "nbformat": 4,
 "nbformat_minor": 2
}
